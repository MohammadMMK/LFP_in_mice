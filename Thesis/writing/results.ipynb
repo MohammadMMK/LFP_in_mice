{
  "cells": [
    {
      "cell_type": "raw",
      "id": "d50ac4c2",
      "metadata": {},
      "source": [
        "---\n",
        "title: \"Thesis Results\"\n",
        "\n",
        "---"
      ]
    },
    {
      "cell_type": "raw",
      "id": "1fa17b8a",
      "metadata": {
        "vscode": {
          "languageId": "raw"
        }
      },
      "source": []
    },
    {
      "cell_type": "raw",
      "id": "f10ea3b9",
      "metadata": {},
      "source": []
    },
    {
      "cell_type": "code",
      "execution_count": 5,
      "id": "008b2059",
      "metadata": {},
      "outputs": [
        {
          "name": "stdout",
          "output_type": "stream",
          "text": [
            "Number of sessions: 41\n",
            "Number of probes: 41\n",
            "Minimum number of V1 channels clean: 2\n",
            "Maximum number of V1 channels clean: 118\n",
            "Mean number of V1 channels clean: 54.829268292682926\n",
            "Minimum number of trials clean: 276.0\n",
            "Maximum number of trials clean: 1098.0\n",
            "Mean number of trials clean: 532.6585365853658\n"
          ]
        }
      ],
      "source": []
    },
    {
      "cell_type": "code",
      "execution_count": null,
      "id": "67b609dd",
      "metadata": {},
      "outputs": [],
      "source": []
    }
  ],
  "metadata": {
    "kernelspec": {
      "display_name": "quarto-env",
      "language": "python",
      "name": "python3"
    },
    "language_info": {
      "codemirror_mode": {
        "name": "ipython",
        "version": 3
      },
      "file_extension": ".py",
      "mimetype": "text/x-python",
      "name": "python",
      "nbconvert_exporter": "python",
      "pygments_lexer": "ipython3",
      "version": "3.9.18"
    }
  },
  "nbformat": 4,
  "nbformat_minor": 5
}
